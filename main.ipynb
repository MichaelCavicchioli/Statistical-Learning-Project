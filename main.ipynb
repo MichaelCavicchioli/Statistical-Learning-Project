{
 "cells": [
  {
   "cell_type": "markdown",
   "metadata": {},
   "source": [
    "### SVM (Support Vector Machines) ###"
   ]
  },
  {
   "cell_type": "markdown",
   "metadata": {},
   "source": [
    "Il metodo di classificazione SVM (Support Vector Machine) è una tecnica di apprendimento supervisionato, utilizzata per la classificazione e la regressione. La sua caratteristica principe è la capacità di trovare un iperpiano che separa i dati in due categorie diverse, con il massimo margine possibile, ovvero, l'SVM cerca il confine decisionale che massimizza la distanza tra i punti dati delle due classi più vicini al confine stesso, chiamati \"support vectors\". Questo metodo è particolarmente efficace in spazi ad alta dimensionalità e può essere esteso a problemi di classificazione non lineare utilizzando il 'Kernel Trick', che trasforma i dati originali in uno spazio di dimensioni superiori dove un iperpiano può separare le classi.\n",
    "\n",
    "![Esempio di SVM su dati lineari](assets/lin-svm.jpg)\n",
    "\n",
    "![Esempio di SVM su dati non lineari](assets/non-lin-svm.jpg)\n",
    "\n",
    "Per ulteriori informazioni [1]."
   ]
  },
  {
   "cell_type": "markdown",
   "metadata": {},
   "source": [
    "Come primo passo, si è caricato le librerie utili per l'esecuzione del codice.\n",
    "\n",
    "Per fare ciò, si sono utilizzate le seguenti righe di codice:"
   ]
  },
  {
   "cell_type": "code",
   "execution_count": 1,
   "metadata": {},
   "outputs": [],
   "source": [
    "# Load libraries\n",
    "from sklearn.model_selection import GridSearchCV, train_test_split \n",
    "from sklearn.metrics import confusion_matrix, accuracy_score\n",
    "from sklearn.preprocessing import StandardScaler\n",
    "import matplotlib.pyplot as plt\n",
    "from sklearn.svm import SVC         \n",
    "import seaborn as sns\n",
    "import pandas as pd"
   ]
  },
  {
   "cell_type": "markdown",
   "metadata": {},
   "source": [
    "Dopodichè, si è caricato il data set mediante il metodo **read_csv** della libreria Pandas,\n",
    "\n",
    "mostrando le prime 5 righe."
   ]
  },
  {
   "cell_type": "code",
   "execution_count": 2,
   "metadata": {},
   "outputs": [
    {
     "data": {
      "text/html": [
       "<div>\n",
       "<style scoped>\n",
       "    .dataframe tbody tr th:only-of-type {\n",
       "        vertical-align: middle;\n",
       "    }\n",
       "\n",
       "    .dataframe tbody tr th {\n",
       "        vertical-align: top;\n",
       "    }\n",
       "\n",
       "    .dataframe thead th {\n",
       "        text-align: right;\n",
       "    }\n",
       "</style>\n",
       "<table border=\"1\" class=\"dataframe\">\n",
       "  <thead>\n",
       "    <tr style=\"text-align: right;\">\n",
       "      <th></th>\n",
       "      <th>cap-diameter</th>\n",
       "      <th>cap-shape</th>\n",
       "      <th>gill-attachment</th>\n",
       "      <th>gill-color</th>\n",
       "      <th>stem-height</th>\n",
       "      <th>stem-width</th>\n",
       "      <th>stem-color</th>\n",
       "      <th>season</th>\n",
       "      <th>class</th>\n",
       "    </tr>\n",
       "  </thead>\n",
       "  <tbody>\n",
       "    <tr>\n",
       "      <th>0</th>\n",
       "      <td>1372</td>\n",
       "      <td>2</td>\n",
       "      <td>2</td>\n",
       "      <td>10</td>\n",
       "      <td>3.807467</td>\n",
       "      <td>1545</td>\n",
       "      <td>11</td>\n",
       "      <td>1.804273</td>\n",
       "      <td>1</td>\n",
       "    </tr>\n",
       "    <tr>\n",
       "      <th>1</th>\n",
       "      <td>1461</td>\n",
       "      <td>2</td>\n",
       "      <td>2</td>\n",
       "      <td>10</td>\n",
       "      <td>3.807467</td>\n",
       "      <td>1557</td>\n",
       "      <td>11</td>\n",
       "      <td>1.804273</td>\n",
       "      <td>1</td>\n",
       "    </tr>\n",
       "    <tr>\n",
       "      <th>2</th>\n",
       "      <td>1371</td>\n",
       "      <td>2</td>\n",
       "      <td>2</td>\n",
       "      <td>10</td>\n",
       "      <td>3.612496</td>\n",
       "      <td>1566</td>\n",
       "      <td>11</td>\n",
       "      <td>1.804273</td>\n",
       "      <td>1</td>\n",
       "    </tr>\n",
       "    <tr>\n",
       "      <th>3</th>\n",
       "      <td>1261</td>\n",
       "      <td>6</td>\n",
       "      <td>2</td>\n",
       "      <td>10</td>\n",
       "      <td>3.787572</td>\n",
       "      <td>1566</td>\n",
       "      <td>11</td>\n",
       "      <td>1.804273</td>\n",
       "      <td>1</td>\n",
       "    </tr>\n",
       "    <tr>\n",
       "      <th>4</th>\n",
       "      <td>1305</td>\n",
       "      <td>6</td>\n",
       "      <td>2</td>\n",
       "      <td>10</td>\n",
       "      <td>3.711971</td>\n",
       "      <td>1464</td>\n",
       "      <td>11</td>\n",
       "      <td>0.943195</td>\n",
       "      <td>1</td>\n",
       "    </tr>\n",
       "  </tbody>\n",
       "</table>\n",
       "</div>"
      ],
      "text/plain": [
       "   cap-diameter  cap-shape  gill-attachment  gill-color  stem-height  \\\n",
       "0          1372          2                2          10     3.807467   \n",
       "1          1461          2                2          10     3.807467   \n",
       "2          1371          2                2          10     3.612496   \n",
       "3          1261          6                2          10     3.787572   \n",
       "4          1305          6                2          10     3.711971   \n",
       "\n",
       "   stem-width  stem-color    season  class  \n",
       "0        1545          11  1.804273      1  \n",
       "1        1557          11  1.804273      1  \n",
       "2        1566          11  1.804273      1  \n",
       "3        1566          11  1.804273      1  \n",
       "4        1464          11  0.943195      1  "
      ]
     },
     "execution_count": 2,
     "metadata": {},
     "output_type": "execute_result"
    }
   ],
   "source": [
    "# Load data\n",
    "df = pd.read_csv(filepath_or_buffer=\"dataset/mushroom_cleaned.csv\", sep=\",\")\n",
    "df.head()"
   ]
  },
  {
   "cell_type": "markdown",
   "metadata": {},
   "source": [
    "Successivamente è seguita la fase di *Pre processing*, che è consistita in:\n",
    "\n",
    "- Rimuovere eventuali valori NA presenti nel data set.\n",
    "\n",
    "- Arrotondare alla seconda cifra decimale quelle colonne che presentavano valori non interi.\n",
    "\n",
    "- Creare una serie di variabili *dummies* per quelle colonne di tipo categorico."
   ]
  },
  {
   "cell_type": "code",
   "execution_count": 3,
   "metadata": {},
   "outputs": [],
   "source": [
    "# Remove NA\n",
    "df = df.dropna()\n",
    "\n",
    "# Round to 2 decimal digits\n",
    "df = df.round(2)\n",
    "\n",
    "# One-hot encoding\n",
    "df = pd.get_dummies(df, columns=['cap-shape', 'gill-attachment', 'gill-color', 'stem-color'])"
   ]
  },
  {
   "cell_type": "markdown",
   "metadata": {},
   "source": [
    "Poi, è seguita la fase di preparazione dati, ovvero quella fase in cui i dati sono stati suddivisi in Train, Test e Validation set (questi ultimi solo per le reti neurali), \n",
    "\n",
    "utilizzando il 60% dei dati per il Test set, dato che la fase di Training, con più dati rispetto a quelli attuali, avrebbe richiesto troppo tempo.\n",
    "\n",
    "Infine, i dati non obiettivo sono stati standardizzati, in modo tale da far lavorare l'algoritmo con un range di valori più basso rispetto a quello di partenza,\n",
    "\n",
    "migliorando l'efficienza e le performance."
   ]
  },
  {
   "cell_type": "code",
   "execution_count": 4,
   "metadata": {},
   "outputs": [
    {
     "name": "stdout",
     "output_type": "stream",
     "text": [
      "Train shape: (17291, 43) (17291,)\n",
      "Test shape: (32421, 43) (32421,)\n",
      "Validation shape: (4323, 43) (4323,)\n"
     ]
    }
   ],
   "source": [
    "# Separate objective variable from others\n",
    "X = df.drop('class', axis=1)\n",
    "y = df['class']\n",
    "\n",
    "# 30k rows for Test (whole dataset is too computationally expensive)\n",
    "X, X_test, y, y_test = train_test_split(\n",
    "    X,\n",
    "    y,\n",
    "    test_size=0.6,\n",
    "    random_state=42,\n",
    "    stratify=y,\n",
    "    shuffle=True\n",
    ")\n",
    "\n",
    "# Split dataset: \n",
    "#   -Train set\n",
    "#   -Validation set (NN only)\n",
    "X_train, X_validation, y_train, y_validation = train_test_split(\n",
    "    X, \n",
    "    y, \n",
    "    test_size=0.2,\n",
    "    random_state=42,\n",
    "    stratify=y,\n",
    "    shuffle=True \n",
    ")\n",
    "\n",
    "print(\"Train shape:\", X_train.shape, y_train.shape)\n",
    "print(\"Test shape:\", X_test.shape, y_test.shape)\n",
    "print(\"Validation shape:\", X_validation.shape, y_validation.shape)\n",
    "\n",
    "# Data Standardization\n",
    "scaler = StandardScaler()\n",
    "X_train = scaler.fit_transform(X_train)\n",
    "X_test = scaler.transform(X_test)\n",
    "X_validation = scaler.transform(X_validation)"
   ]
  },
  {
   "cell_type": "markdown",
   "metadata": {},
   "source": [
    "Dopodichè, si è creata la griglia dei parametri da tunare, in modo tale da ottenere i migliori parametri per l'algoritmo **SVM**, su questo data set."
   ]
  },
  {
   "cell_type": "code",
   "execution_count": 5,
   "metadata": {},
   "outputs": [],
   "source": [
    "# Grid search with CV\n",
    "param_grid = {\n",
    "    'C': [0.1, 1, 10],  # Regularization parameter\n",
    "    'kernel': ['linear', 'rbf', 'poly'],  # Kernel type\n",
    "    'gamma': ['scale', 'auto'],  # Gamma coefficient for 'rbf' and 'poly'\n",
    "    'degree': [2, 3]  # Degree of the polynomial for kernel 'poly'\n",
    "}"
   ]
  },
  {
   "cell_type": "markdown",
   "metadata": {},
   "source": [
    "In questa porzione di codice è stato creato il modello SVC (**SVM Classifier**) e istanziato l'oggetto **GridSearchCV** con i seguenti parametri: \n",
    "\n",
    "- svm: è il modello per cui si ricercano i migliori parametri.\n",
    "\n",
    "- param_grid: la griglia dei parametri da tunare.\n",
    "\n",
    "- 5: il numero dei k fold con cui deve lavorare la *Cross-Validation*.\n",
    "\n",
    "- accuracy: è lo score con cui si base la *Grid search* per ottenere i migliori parametri.\n",
    "\n",
    "- -1: indica di utilizzare tutti i Core disponibili della propria macchina."
   ]
  },
  {
   "cell_type": "code",
   "execution_count": 6,
   "metadata": {},
   "outputs": [],
   "source": [
    "# Create SVC model (SVM Classifier)\n",
    "svm = SVC()\n",
    "grid_search = GridSearchCV(\n",
    "    estimator=svm, \n",
    "    param_grid=param_grid, \n",
    "    cv=5, \n",
    "    scoring='accuracy', \n",
    "    n_jobs=-1\n",
    ")"
   ]
  },
  {
   "cell_type": "markdown",
   "metadata": {},
   "source": [
    "Dopo, viene avviata la *Grid search*, attraverso il metodo **fit**, sui dati di Train."
   ]
  },
  {
   "cell_type": "code",
   "execution_count": 7,
   "metadata": {},
   "outputs": [],
   "source": [
    "# Fit\n",
    "grid_search = grid_search.fit(X_train, y_train)"
   ]
  },
  {
   "cell_type": "markdown",
   "metadata": {},
   "source": [
    "Qui vengono mostrati i migliori parametri trovati dall'algoritmo."
   ]
  },
  {
   "cell_type": "code",
   "execution_count": 8,
   "metadata": {},
   "outputs": [
    {
     "name": "stdout",
     "output_type": "stream",
     "text": [
      "Best parameters founded: {'C': 10, 'degree': 2, 'gamma': 'scale', 'kernel': 'rbf'}\n"
     ]
    }
   ],
   "source": [
    "# Best parameters\n",
    "print(\"Best parameters founded:\", grid_search.best_params_)"
   ]
  },
  {
   "cell_type": "markdown",
   "metadata": {},
   "source": [
    "In seguito, vengono fatte le predizioni utilizzando il miglior modello ottenuto."
   ]
  },
  {
   "cell_type": "code",
   "execution_count": 9,
   "metadata": {},
   "outputs": [],
   "source": [
    "# Prediction\n",
    "best_svm = grid_search.best_estimator_\n",
    "y_pred = best_svm.predict(X_test)"
   ]
  },
  {
   "cell_type": "markdown",
   "metadata": {},
   "source": [
    "Successivamente, viene creata la matrice di confusione, la quale permette di avere un'idea generale della bontà del modello tramite una fase visiva."
   ]
  },
  {
   "cell_type": "code",
   "execution_count": 10,
   "metadata": {},
   "outputs": [
    {
     "data": {
      "image/png": "[encoded data removed]",
      "text/plain": [
       "<Figure size 300x300 with 2 Axes>"
      ]
     },
     "metadata": {},
     "output_type": "display_data"
    }
   ],
   "source": [
    "# Confusion matrix\n",
    "conf_matrix = confusion_matrix(y_true=y_test, y_pred=y_pred)\n",
    "    \n",
    "ax = plt.subplots(figsize=(3, 3))[1]\n",
    "sns.heatmap(conf_matrix, annot=True, linewidths=0.01, cmap='Greens', linecolor='gray', fmt='.1f', ax=ax)\n",
    "plt.xlabel('Predicted Label')\n",
    "plt.ylabel('True Label')\n",
    "plt.title('Confusion Matrix')\n",
    "plt.show()"
   ]
  },
  {
   "cell_type": "markdown",
   "metadata": {},
   "source": [
    "Infine, viene riportata l'accuratezza del modello."
   ]
  },
  {
   "cell_type": "code",
   "execution_count": 11,
   "metadata": {},
   "outputs": [
    {
     "name": "stdout",
     "output_type": "stream",
     "text": [
      "Test loss: 0.03260232565312604\n",
      "Test Accuracy: 0.967397674346874\n"
     ]
    }
   ],
   "source": [
    "# Evaluation model\n",
    "accuracy = accuracy_score(y_test, y_pred)\n",
    "print(f'Test loss: {1 - accuracy}')\n",
    "print(f'Test Accuracy: {accuracy}')"
   ]
  },
  {
   "cell_type": "markdown",
   "metadata": {},
   "source": [
    "### Neural Network ###"
   ]
  },
  {
   "cell_type": "markdown",
   "metadata": {},
   "source": [
    "Le reti neurali sono modelli di apprendimento automatico ispirati alla struttura e al funzionamento del cervello umano. Sono composte da strati di nodi chiamati neuroni e quando uno di loro è connesso ad un altro, è presente un peso, parametro che indica l'importanza di tale connessione. Ogni neurone riceve input, lo elabora attraverso una funzione di attivazione e invia l'output ai neuroni dello strato successivo. Le reti neurali possono apprendere pattern complessi nei dati attraverso un processo di addestramento, durante il quale i pesi delle connessioni vengono ottimizzati usando algoritmi come la retropropagazione. Esistono vari tipi di reti neurali, come le reti neurali convoluzionali (CNN) per l'elaborazione delle immagini e le multilayer perceptron (MLP), cioè reti completamente connesse usate per la classificazione e regressione.\n",
    "\n",
    "![Esempio di una MLP](assets/mlp.jpg)\n",
    "\n",
    "Per ulteriori informazioni [2]."
   ]
  },
  {
   "cell_type": "markdown",
   "metadata": {},
   "source": [
    "In primo luogo sono state importate le librerie utili alla manipolazione della rete neurale (oltre a quelle usate precedentemente)."
   ]
  },
  {
   "cell_type": "code",
   "execution_count": null,
   "metadata": {},
   "outputs": [],
   "source": [
    "# Load libraries for NN\n",
    "from keras.src.callbacks import EarlyStopping, ModelCheckpoint\n",
    "from keras.src.layers import Dense\n",
    "from keras import Model, Input\n",
    "import numpy as np"
   ]
  },
  {
   "cell_type": "markdown",
   "metadata": {},
   "source": [
    "In questa porzione di codice viene creato il modello di rete neurale e compilato.\n",
    "\n",
    "La rete è formata da:\n",
    "\n",
    "- 2 x livelli densi con 16 neuroni ciascuno, ovvero dove tutti i neuroni sono connessi con tutti gli altri.\n",
    "\n",
    "- 1 x livello di output con un singolo neurone (classificazione binaria).\n",
    "\n",
    "Ogni campione di input è un vettore di 'X_train.shape[1]' (= 43) dimensioni."
   ]
  },
  {
   "cell_type": "code",
   "execution_count": 13,
   "metadata": {},
   "outputs": [],
   "source": [
    "# Create model\n",
    "inputs = Input(shape=(X_train.shape[1],))\n",
    "x = Dense(16, activation=\"relu\")(inputs)\n",
    "x = Dense(16, activation=\"relu\")(x)\n",
    "outputs = Dense(1, activation=\"sigmoid\")(x)\n",
    "model = Model(inputs=inputs, outputs=outputs)\n",
    "\n",
    "# Compile model\n",
    "model.compile(\n",
    "    optimizer='adam',\n",
    "    loss='binary_crossentropy',\n",
    "    metrics=['accuracy']\n",
    ")\n"
   ]
  },
  {
   "cell_type": "markdown",
   "metadata": {},
   "source": [
    "In seguito viene allenato il modello tramite il metodo **fit** e salvata la storia per plottare l'accuratezza e la perdita durante il training."
   ]
  },
  {
   "cell_type": "code",
   "execution_count": null,
   "metadata": {},
   "outputs": [],
   "source": [
    "# Define callbacks\n",
    "callbacks = [\n",
    "    EarlyStopping(monitor='val_loss', patience=5),\n",
    "    ModelCheckpoint(filepath='keras_model/best_model.keras', monitor='val_loss', save_best_only=True)\n",
    "]\n",
    "\n",
    "# Fit model\n",
    "history = model.fit(\n",
    "    x=X_train, \n",
    "    y=y_train,\n",
    "    epochs=500,\n",
    "    batch_size=32,\n",
    "    validation_data=(X_validation, y_validation),\n",
    "    callbacks=callbacks\n",
    ")"
   ]
  },
  {
   "cell_type": "markdown",
   "metadata": {},
   "source": [
    "Plot della accuratezza e della loss durante il training."
   ]
  },
  {
   "cell_type": "code",
   "execution_count": 15,
   "metadata": {},
   "outputs": [
    {
     "data": {
      "image/png": "[encoded data removed]",
      "text/plain": [
       "<Figure size 300x300 with 1 Axes>"
      ]
     },
     "metadata": {},
     "output_type": "display_data"
    },
    {
     "data": {
      "image/png": "[encoded data removed]",
      "text/plain": [
       "<Figure size 300x300 with 1 Axes>"
      ]
     },
     "metadata": {},
     "output_type": "display_data"
    }
   ],
   "source": [
    "# Plotting accuracy (training + validation)\n",
    "plt.subplots(figsize=(3, 3))\n",
    "plt.plot(history.history['accuracy'])\n",
    "plt.plot(np.arange(len(history.history['val_accuracy'])) + 1,   history.history['val_accuracy'])\n",
    "plt.title('Model accuracy')\n",
    "plt.ylabel('accuracy')\n",
    "plt.xlabel('epoch')\n",
    "plt.legend(['train', 'validation'], loc='lower right')\n",
    "plt.show()\n",
    "\n",
    "# Plotting loss (training + validation)\n",
    "plt.subplots(figsize=(3, 3))\n",
    "plt.plot(history.history['loss'])\n",
    "plt.plot(np.arange(len(history.history['val_loss'])) + 1,   history.history['val_loss'])\n",
    "plt.title('Model loss')\n",
    "plt.ylabel('loss')\n",
    "plt.xlabel('epoch')\n",
    "plt.legend(['train', 'validation'], loc='upper right')\n",
    "plt.show()\n"
   ]
  },
  {
   "cell_type": "markdown",
   "metadata": {},
   "source": [
    "Successivamente vengono eseguite le predizioni."
   ]
  },
  {
   "cell_type": "code",
   "execution_count": null,
   "metadata": {},
   "outputs": [],
   "source": [
    "# Prediction\n",
    "y_pred = model.predict(X_test)"
   ]
  },
  {
   "cell_type": "markdown",
   "metadata": {},
   "source": [
    "Dopodichè, viene creata la matrice di confusione."
   ]
  },
  {
   "cell_type": "code",
   "execution_count": 17,
   "metadata": {},
   "outputs": [
    {
     "data": {
      "image/png": "[encoded data removed]",
      "text/plain": [
       "<Figure size 300x300 with 2 Axes>"
      ]
     },
     "metadata": {},
     "output_type": "display_data"
    }
   ],
   "source": [
    "# Convert predictions classes \n",
    "y_pred = (y_pred > 0.5).astype(int)\n",
    "\n",
    "# Compute the confusion matrix\n",
    "confusion_mtx = confusion_matrix(y_test, y_pred) \n",
    "\n",
    "# Plot the confusion matrix\n",
    "f,ax = plt.subplots(figsize=(3, 3))\n",
    "sns.heatmap(confusion_mtx, annot=True, linewidths=0.01,cmap=\"Greens\",linecolor=\"gray\", fmt= '.1f', ax=ax)\n",
    "plt.xlabel(\"Predicted Label\")\n",
    "plt.ylabel(\"True Label\")\n",
    "plt.title(\"Confusion Matrix\")\n",
    "plt.show()"
   ]
  },
  {
   "cell_type": "markdown",
   "metadata": {},
   "source": [
    "Infine, viene valutato il modello, mostrando l'accuratezza e la perdita."
   ]
  },
  {
   "cell_type": "code",
   "execution_count": 18,
   "metadata": {},
   "outputs": [
    {
     "name": "stdout",
     "output_type": "stream",
     "text": [
      "Test Loss: 0.06579185277223587\n",
      "Test Accuracy: 0.9729188084602356\n"
     ]
    }
   ],
   "source": [
    "# Evaluate model\n",
    "results = model.evaluate(X_test, y_test, verbose=0)\n",
    "print(f'Test Loss: {results[0]}')\n",
    "print(f'Test Accuracy: {results[1]}')"
   ]
  },
  {
   "cell_type": "markdown",
   "metadata": {},
   "source": [
    "## Bibliografia\n",
    "1. https://www.datacamp.com/tutorial/support-vector-machines-r\n",
    "2. https://www.vrogue.co/post/the-structure-of-a-multilayer-perceptron-neural-netwo-vrogue-co"
   ]
  }
 ],
 "metadata": {
  "kernelspec": {
   "display_name": "Python 3",
   "language": "python",
   "name": "python3"
  },
  "language_info": {
   "codemirror_mode": {
    "name": "ipython",
    "version": 3
   },
   "file_extension": ".py",
   "mimetype": "text/x-python",
   "name": "python",
   "nbconvert_exporter": "python",
   "pygments_lexer": "ipython3",
   "version": "3.12.3"
  }
 },
 "nbformat": 4,
 "nbformat_minor": 2
}
